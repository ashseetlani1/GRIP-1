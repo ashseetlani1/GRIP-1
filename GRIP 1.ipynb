{
 "cells": [
  {
   "cell_type": "markdown",
   "id": "c90940a4",
   "metadata": {},
   "source": [
    "# Predict the percentage of an student based on the no. of study hours"
   ]
  },
  {
   "cell_type": "markdown",
   "id": "d555dfb3",
   "metadata": {},
   "source": [
    "##      Importing All the libraries we will need in this task."
   ]
  },
  {
   "cell_type": "markdown",
   "id": "c60396ce",
   "metadata": {},
   "source": [
    "#### Here we imported Numpy for Arrays, Matplotlib for plotting Graphs, Pandas for DataFrames, train_test_split for splitting the data into training and testing sets, and finally Linear Model for applying Linear Regression."
   ]
  },
  {
   "cell_type": "code",
   "execution_count": 23,
   "id": "4089a03f",
   "metadata": {},
   "outputs": [],
   "source": [
    "import numpy as np\n",
    "from matplotlib import pyplot as plt\n",
    "%matplotlib inline\n",
    "import pandas as pd\n",
    "from sklearn.model_selection import train_test_split\n",
    "from sklearn import linear_model,metrics"
   ]
  },
  {
   "cell_type": "markdown",
   "id": "7526865f",
   "metadata": {},
   "source": [
    "#### Here we're displaying the description,shape, and data types of our data set"
   ]
  },
  {
   "cell_type": "code",
   "execution_count": 11,
   "id": "39ee0468",
   "metadata": {},
   "outputs": [
    {
     "name": "stdout",
     "output_type": "stream",
     "text": [
      "Data imported successfully!\n",
      "           Hours     Scores\n",
      "count  25.000000  25.000000\n",
      "mean    5.012000  51.480000\n",
      "std     2.525094  25.286887\n",
      "min     1.100000  17.000000\n",
      "25%     2.700000  30.000000\n",
      "50%     4.800000  47.000000\n",
      "75%     7.400000  75.000000\n",
      "max     9.200000  95.000000\n",
      "\n",
      "Shape: (25, 2)\n",
      "\n",
      "Data Types: \n",
      "Hours     float64\n",
      "Scores      int64\n",
      "dtype: object\n",
      "\n",
      "   Hours  Scores\n",
      "0    2.5      21\n",
      "1    5.1      47\n",
      "2    3.2      27\n",
      "3    8.5      75\n",
      "4    3.5      30\n"
     ]
    }
   ],
   "source": [
    "df = pd.read_csv('http://bit.ly/w-data')\n",
    "print('Data imported successfully!')\n",
    "print(df.describe())    # to see descriptions of numeric data\n",
    "print(f'\\nShape: {df.shape}')   #to count rows and columns\n",
    "print(f'\\nData Types: \\n{df.dtypes}')    #to see data type of all Features/Columns\n",
    "print(f'\\n{df.head(5)}')  #To print the first 5 rows of data\n"
   ]
  },
  {
   "cell_type": "markdown",
   "id": "600f685d",
   "metadata": {},
   "source": [
    "#### Here we wil plot the data before applying Linear Regression"
   ]
  },
  {
   "cell_type": "code",
   "execution_count": 12,
   "id": "8cbac052",
   "metadata": {},
   "outputs": [
    {
     "data": {
      "image/png": "[encoded data removed]",
      "text/plain": [
       "<Figure size 640x480 with 1 Axes>"
      ]
     },
     "metadata": {},
     "output_type": "display_data"
    }
   ],
   "source": [
    "plt.scatter(df[\"Hours\"],df[\"Scores\"], c='red', s= 20, alpha = 0.7)\n",
    "plt.title(\"Scores Calculation\")\n",
    "plt.ylabel('Scores')\n",
    "plt.xlabel('Study (in hours)')\n",
    "plt.show()"
   ]
  },
  {
   "cell_type": "markdown",
   "id": "7e5ad9de",
   "metadata": {},
   "source": [
    "#### Here we are splitting the data into training and testing set"
   ]
  },
  {
   "cell_type": "code",
   "execution_count": null,
   "id": "a9632aad",
   "metadata": {},
   "outputs": [],
   "source": [
    "df_x = df.iloc[:, :-1].values\n",
    "df_y = df.iloc[:, 1].values\n",
    "\n",
    "x_train, x_test, y_train, y_test = train_test_split(df_x,df_y, test_size=0.2,random_state=0)\n",
    "regressor = linear_model.LinearRegression()\n",
    "regressor.fit(x_train,y_train,)\n",
    "\n",
    "line  =regressor.coef_*df_x+regressor.intercept_"
   ]
  },
  {
   "cell_type": "markdown",
   "id": "26eb9158",
   "metadata": {},
   "source": [
    "#### Here we wil plot line the data after applying Linear Regression"
   ]
  },
  {
   "cell_type": "code",
   "execution_count": null,
   "id": "1cd7768c",
   "metadata": {},
   "outputs": [],
   "source": [
    "plt.scatter(df_x,df_y, c='red', s= 20, alpha = 0.7)\n",
    "plt.plot(df_x,line, c ='blue')\n",
    "plt.title(\"Scores Calculation\")\n",
    "plt.ylabel('Scores')\n",
    "plt.xlabel('Study (in hours)')\n",
    "plt.show()"
   ]
  },
  {
   "cell_type": "markdown",
   "id": "4f432cea",
   "metadata": {},
   "source": [
    "#### Here we print the shape of testing and predicted data"
   ]
  },
  {
   "cell_type": "code",
   "execution_count": 21,
   "id": "9aae0bab",
   "metadata": {},
   "outputs": [
    {
     "ename": "NameError",
     "evalue": "name 'regressor' is not defined",
     "output_type": "error",
     "traceback": [
      "\u001b[1;31m---------------------------------------------------------------------------\u001b[0m",
      "\u001b[1;31mNameError\u001b[0m                                 Traceback (most recent call last)",
      "Cell \u001b[1;32mIn [21], line 1\u001b[0m\n\u001b[1;32m----> 1\u001b[0m y_predicted \u001b[38;5;241m=\u001b[39m \u001b[43mregressor\u001b[49m\u001b[38;5;241m.\u001b[39mpredict(x_test)\n\u001b[0;32m      3\u001b[0m df1\u001b[38;5;241m=\u001b[39m pd\u001b[38;5;241m.\u001b[39mDataFrame({\u001b[38;5;124m'\u001b[39m\u001b[38;5;124mActual\u001b[39m\u001b[38;5;124m'\u001b[39m: y_test, \u001b[38;5;124m'\u001b[39m\u001b[38;5;124mPredicted\u001b[39m\u001b[38;5;124m'\u001b[39m: y_predicted})\n\u001b[0;32m      4\u001b[0m \u001b[38;5;28mprint\u001b[39m(df1)\n",
      "\u001b[1;31mNameError\u001b[0m: name 'regressor' is not defined"
     ]
    }
   ],
   "source": [
    "y_predicted = regressor.predict(x_test)\n",
    "\n",
    "df1= pd.DataFrame({'Actual': y_test, 'Predicted': y_predicted})\n",
    "print(df1)"
   ]
  },
  {
   "cell_type": "markdown",
   "id": "b662c42b",
   "metadata": {},
   "source": [
    "#### Here we predict the score for input hours."
   ]
  },
  {
   "cell_type": "code",
   "execution_count": null,
   "id": "bc436f1e",
   "metadata": {},
   "outputs": [],
   "source": [
    "num = float(input(\"Enter number of hours you studied to calculate your score: \\t\"))\n",
    "hours = np.array(num).reshape(1, -1)\n",
    "own_prediction = regressor.predict(hours)\n",
    "print(f'No of hours: {format(hours)}')\n",
    "print(f'Predicted score: {format(own_prediction[0])}')\n",
    "\n",
    "print(f'Mean Absolute Error: {metrics.mean_absolute_error(y_test,y_predicted)}')"
   ]
  }
 ],
 "metadata": {
  "kernelspec": {
   "display_name": "Python 3 (ipykernel)",
   "language": "python",
   "name": "python3"
  },
  "language_info": {
   "codemirror_mode": {
    "name": "ipython",
    "version": 3
   },
   "file_extension": ".py",
   "mimetype": "text/x-python",
   "name": "python",
   "nbconvert_exporter": "python",
   "pygments_lexer": "ipython3",
   "version": "3.9.7"
  }
 },
 "nbformat": 4,
 "nbformat_minor": 5
}
